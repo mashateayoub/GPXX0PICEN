{
 "cells": [
  {
   "cell_type": "markdown",
   "metadata": {},
   "source": [
    "# **Deploy a Trading Algorithm with Python**\n",
    "Estimated time needed: 45 minutes\n",
    "\n",
    "In this project, you will build on top of the Create a Trading Algorithm in Python project and deploy a stock trading model to production to make actual stock trades.\n",
    "\n",
    "Disclaimer\n",
    "All trading strategies are used at your own risk. We cannot guarantee that any trade will result in a profit or loss. Thus, this project is made for entertainement purposes only.\n",
    "\n",
    "Learning Objectives\n",
    "Once you have completed this project, you'll be able to:\n",
    "\n",
    "* Use the Yahoo Finance Library to fetch stocks market prices and data\n",
    "* Interact with the Alpaca API to buy and sell stocks\n",
    "* Dockerize simple Python scripts\n",
    "* Deploy your Docker image with Kubernetes"
   ]
  },
  {
   "cell_type": "markdown",
   "metadata": {},
   "source": [
    "# **Step 1: Create an Alpaca account**\n",
    "We will use the Alpaca exchange to build our trading bot. Alpaca is a free and API first exchange that allows us to buy and sell stocks via API calls.\n",
    "\n",
    "To get started with Alpaca:\n",
    "\n",
    "1- Navigate to the Alpaca main page and click on Sign Up to create an account\n",
    "\n",
    "2- Enter your credentials and click on \"Sign Up for free.\"\n",
    "\n",
    "3- Verify your account by going to the email used to create your account and retrieve your verification code.\n",
    "\n",
    "4- Now that you created and verified your account, we need to change our Alpaca environment from real to simulated. That way, we can make trades and build our algorithm with simulated money. To do so, once you're on the Main Alpaca page, click on the \"Live trading\" dropdown and select the Paper account option."
   ]
  },
  {
   "cell_type": "markdown",
   "metadata": {},
   "source": [
    "Now you should be on the dashboard for the paper trade account. In this dashboard, you will see how your strategy is performing, what stocks your bot bought and sold, and other useful info.\n",
    "\n",
    "5- Before we move on to the next step, we need to generate the API tokens that will be used to authenticate your account. When you're in the main dashboard, you should see \"Your API Keys\" on the right, click on \"View\" and your API keys should be shown. You can then click \"Generate Key\". Please copy and save the value of the Endpoint, API Key ID, and Secret Key.\n",
    "We're now ready to start building the trading bot!"
   ]
  },
  {
   "cell_type": "markdown",
   "metadata": {},
   "source": [
    "# **Step 2: Creating the trading bot**\n",
    "First, let's recap the trading strategy we created in Part 1.\n",
    "\n",
    "We simulated a trading strategy that buys the BTCUSD ticker once the nine-day moving average crosses the 30 days moving average from the bottom and liquidates the position once the nine-day SMA (i.e., simple moving average) crosses the 30 days SMA from the top.\n",
    "\n",
    "We'll build a bot that follows these exact steps but trades the SPY ticker to generalize this strategy. SPY is one of the most traded exchanges traded funds. An exchange-traded fund (or ETFs for short) is a basket of stocks traded under a single ticker, and the SPY represents the 500 largest US stocks at any moment.\n",
    "\n",
    "This ETF is often used to represent how the whole market is performing at any moment.\n",
    "\n",
    "Now we are ready to start building the Bot:\n",
    "\n",
    "## Create our file structure\n",
    "1. Inside the cloud IDE, click on \"File\"\n",
    "Create Folder\n",
    "\n",
    "2. then on \"New Folder\". Let's name this folder trading-bot\n",
    "\n",
    "\n",
    "3. You can then click on the IDE's explorer to see the folder that we created.\n",
    "\n",
    "4. We then need to create two new files. A config.json file that will hold all of our secrets and a bot.py file that will hold all of our logic. You can right-click on the folder trading-bot and click on \"New File\". You can then create config.json and bot.py.\n",
    "\n",
    "You should now see the config.json and bot.py files inside the trading-bot folder\n",
    "\n",
    "## Setup our config file\n",
    "Now it's time to set up our config file. We will use the config file to store our Alpaca secrets. You can paste the following JSON to your config file:\n",
    "\n",
    "{\n",
    "  \n",
    "  \"API_KEY\": \"<YOUR_API_KEY>\",\n",
    "\n",
    "  \"SECRET_KEY\": \"<YOUR_SECRET_KEY>\",\n",
    "  \n",
    "  \"BASE_URL\": \"<YOUR_BASE_URL>\"\n",
    "  \n",
    "}\n",
    "\n",
    "Replace <YOUR_API_KEY> with the Alpaca API Key ID saved before\n",
    "\n",
    "Replace <YOUR_SECRET_KEY> with the Alpaca Secret Key saved before\n",
    "\n",
    "Replace <YOUR_BASE_URL> with the Alpaca Endpoint saved before"
   ]
  }
 ],
 "metadata": {
  "language_info": {
   "name": "python"
  },
  "orig_nbformat": 4
 },
 "nbformat": 4,
 "nbformat_minor": 2
}
